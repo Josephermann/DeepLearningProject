{
 "cells": [
  {
   "cell_type": "code",
   "execution_count": 1,
   "metadata": {
    "ExecuteTime": {
     "end_time": "2020-02-27T09:00:35.457336Z",
     "start_time": "2020-02-27T08:57:56.791639Z"
    },
    "collapsed": true
   },
   "outputs": [
    {
     "name": "stderr",
     "output_type": "stream",
     "text": [
      "Using TensorFlow backend.\n",
      "C:\\Users\\ASSAHOUA JOSEPH\\Anaconda3\\lib\\site-packages\\tensorflow\\python\\framework\\dtypes.py:516: FutureWarning: Passing (type, 1) or '1type' as a synonym of type is deprecated; in a future version of numpy, it will be understood as (type, (1,)) / '(1,)type'.\n",
      "  _np_qint8 = np.dtype([(\"qint8\", np.int8, 1)])\n",
      "C:\\Users\\ASSAHOUA JOSEPH\\Anaconda3\\lib\\site-packages\\tensorflow\\python\\framework\\dtypes.py:517: FutureWarning: Passing (type, 1) or '1type' as a synonym of type is deprecated; in a future version of numpy, it will be understood as (type, (1,)) / '(1,)type'.\n",
      "  _np_quint8 = np.dtype([(\"quint8\", np.uint8, 1)])\n",
      "C:\\Users\\ASSAHOUA JOSEPH\\Anaconda3\\lib\\site-packages\\tensorflow\\python\\framework\\dtypes.py:518: FutureWarning: Passing (type, 1) or '1type' as a synonym of type is deprecated; in a future version of numpy, it will be understood as (type, (1,)) / '(1,)type'.\n",
      "  _np_qint16 = np.dtype([(\"qint16\", np.int16, 1)])\n",
      "C:\\Users\\ASSAHOUA JOSEPH\\Anaconda3\\lib\\site-packages\\tensorflow\\python\\framework\\dtypes.py:519: FutureWarning: Passing (type, 1) or '1type' as a synonym of type is deprecated; in a future version of numpy, it will be understood as (type, (1,)) / '(1,)type'.\n",
      "  _np_quint16 = np.dtype([(\"quint16\", np.uint16, 1)])\n",
      "C:\\Users\\ASSAHOUA JOSEPH\\Anaconda3\\lib\\site-packages\\tensorflow\\python\\framework\\dtypes.py:520: FutureWarning: Passing (type, 1) or '1type' as a synonym of type is deprecated; in a future version of numpy, it will be understood as (type, (1,)) / '(1,)type'.\n",
      "  _np_qint32 = np.dtype([(\"qint32\", np.int32, 1)])\n",
      "C:\\Users\\ASSAHOUA JOSEPH\\Anaconda3\\lib\\site-packages\\tensorflow\\python\\framework\\dtypes.py:525: FutureWarning: Passing (type, 1) or '1type' as a synonym of type is deprecated; in a future version of numpy, it will be understood as (type, (1,)) / '(1,)type'.\n",
      "  np_resource = np.dtype([(\"resource\", np.ubyte, 1)])\n",
      "C:\\Users\\ASSAHOUA JOSEPH\\Anaconda3\\lib\\site-packages\\tensorboard\\compat\\tensorflow_stub\\dtypes.py:541: FutureWarning: Passing (type, 1) or '1type' as a synonym of type is deprecated; in a future version of numpy, it will be understood as (type, (1,)) / '(1,)type'.\n",
      "  _np_qint8 = np.dtype([(\"qint8\", np.int8, 1)])\n",
      "C:\\Users\\ASSAHOUA JOSEPH\\Anaconda3\\lib\\site-packages\\tensorboard\\compat\\tensorflow_stub\\dtypes.py:542: FutureWarning: Passing (type, 1) or '1type' as a synonym of type is deprecated; in a future version of numpy, it will be understood as (type, (1,)) / '(1,)type'.\n",
      "  _np_quint8 = np.dtype([(\"quint8\", np.uint8, 1)])\n",
      "C:\\Users\\ASSAHOUA JOSEPH\\Anaconda3\\lib\\site-packages\\tensorboard\\compat\\tensorflow_stub\\dtypes.py:543: FutureWarning: Passing (type, 1) or '1type' as a synonym of type is deprecated; in a future version of numpy, it will be understood as (type, (1,)) / '(1,)type'.\n",
      "  _np_qint16 = np.dtype([(\"qint16\", np.int16, 1)])\n",
      "C:\\Users\\ASSAHOUA JOSEPH\\Anaconda3\\lib\\site-packages\\tensorboard\\compat\\tensorflow_stub\\dtypes.py:544: FutureWarning: Passing (type, 1) or '1type' as a synonym of type is deprecated; in a future version of numpy, it will be understood as (type, (1,)) / '(1,)type'.\n",
      "  _np_quint16 = np.dtype([(\"quint16\", np.uint16, 1)])\n",
      "C:\\Users\\ASSAHOUA JOSEPH\\Anaconda3\\lib\\site-packages\\tensorboard\\compat\\tensorflow_stub\\dtypes.py:545: FutureWarning: Passing (type, 1) or '1type' as a synonym of type is deprecated; in a future version of numpy, it will be understood as (type, (1,)) / '(1,)type'.\n",
      "  _np_qint32 = np.dtype([(\"qint32\", np.int32, 1)])\n",
      "C:\\Users\\ASSAHOUA JOSEPH\\Anaconda3\\lib\\site-packages\\tensorboard\\compat\\tensorflow_stub\\dtypes.py:550: FutureWarning: Passing (type, 1) or '1type' as a synonym of type is deprecated; in a future version of numpy, it will be understood as (type, (1,)) / '(1,)type'.\n",
      "  np_resource = np.dtype([(\"resource\", np.ubyte, 1)])\n"
     ]
    }
   ],
   "source": [
    "import numpy as np\n",
    "\n",
    "from keras.datasets import mnist\n",
    "\n",
    "import matplotlib.pyplot as plt"
   ]
  },
  {
   "cell_type": "code",
   "execution_count": 3,
   "metadata": {
    "ExecuteTime": {
     "end_time": "2020-02-27T09:02:52.182966Z",
     "start_time": "2020-02-27T09:02:38.124674Z"
    }
   },
   "outputs": [
    {
     "name": "stdout",
     "output_type": "stream",
     "text": [
      "Downloading data from https://s3.amazonaws.com/img-datasets/mnist.npz\n",
      "11493376/11490434 [==============================] - 12s 1us/step\n"
     ]
    }
   ],
   "source": [
    "# load dataset\n",
    "\n",
    "(X_train, y_train), (X_test, y_test) = mnist.load_data()"
   ]
  },
  {
   "cell_type": "code",
   "execution_count": 4,
   "metadata": {
    "ExecuteTime": {
     "end_time": "2020-02-27T09:07:36.470625Z",
     "start_time": "2020-02-27T09:07:36.462644Z"
    }
   },
   "outputs": [
    {
     "name": "stdout",
     "output_type": "stream",
     "text": [
      "Train labels:  {0: 5923, 1: 6742, 2: 5958, 3: 6131, 4: 5842, 5: 5421, 6: 5918, 7: 6265, 8: 5851, 9: 5949}\n"
     ]
    }
   ],
   "source": [
    "# count unique label \n",
    "\n",
    "unique, counts = np.unique(y_train, return_counts = True)\n",
    "\n",
    "print(\"Train labels: \", dict(zip(unique, counts)))"
   ]
  },
  {
   "cell_type": "code",
   "execution_count": 6,
   "metadata": {
    "ExecuteTime": {
     "end_time": "2020-02-27T09:08:32.512426Z",
     "start_time": "2020-02-27T09:08:32.505476Z"
    }
   },
   "outputs": [
    {
     "name": "stdout",
     "output_type": "stream",
     "text": [
      "Test labels:  {0: 980, 1: 1135, 2: 1032, 3: 1010, 4: 982, 5: 892, 6: 958, 7: 1028, 8: 974, 9: 1009}\n"
     ]
    }
   ],
   "source": [
    "# count unique label \n",
    "\n",
    "unique, counts = np.unique(y_test, return_counts = True)\n",
    "\n",
    "print(\"Test labels: \", dict(zip(unique, counts)))"
   ]
  },
  {
   "cell_type": "code",
   "execution_count": 7,
   "metadata": {
    "ExecuteTime": {
     "end_time": "2020-02-27T09:15:59.664682Z",
     "start_time": "2020-02-27T09:15:59.658699Z"
    }
   },
   "outputs": [],
   "source": [
    "# sample 25 mnists digits\n",
    "\n",
    "indexes = np.random.randint(0, X_train.shape[0], size=25)\n",
    "\n",
    "images = X_train[indexes]\n",
    "\n",
    "labels = X_train[indexes]\n"
   ]
  },
  {
   "cell_type": "code",
   "execution_count": 9,
   "metadata": {
    "ExecuteTime": {
     "end_time": "2020-02-27T09:25:17.414592Z",
     "start_time": "2020-02-27T09:25:16.888654Z"
    }
   },
   "outputs": [
    {
     "data": {
      "image/png": "[encoded data removed]",
      "text/plain": [
       "<Figure size 360x360 with 25 Axes>"
      ]
     },
     "metadata": {
      "needs_background": "light"
     },
     "output_type": "display_data"
    }
   ],
   "source": [
    "# plot the 25 mnist digits\n",
    "\n",
    "plt.figure(figsize = (5, 5))\n",
    "\n",
    "for i in range(len(indexes)):\n",
    "    plt.subplot(5, 5, i+1)\n",
    "    image = images[i]\n",
    "    plt.imshow(image)\n",
    "    plt.axis('off')\n",
    "plt.show()\n",
    "plt.savefig(\"mnist-sample.png\")\n",
    "plt.close('all')\n",
    "    \n",
    "    "
   ]
  },
  {
   "cell_type": "code",
   "execution_count": 13,
   "metadata": {
    "ExecuteTime": {
     "end_time": "2020-02-27T09:32:33.716578Z",
     "start_time": "2020-02-27T09:32:33.712589Z"
    }
   },
   "outputs": [],
   "source": [
    "from tensorflow.keras.utils import to_categorical"
   ]
  },
  {
   "cell_type": "code",
   "execution_count": 14,
   "metadata": {
    "ExecuteTime": {
     "end_time": "2020-02-27T09:33:38.218534Z",
     "start_time": "2020-02-27T09:33:38.212551Z"
    }
   },
   "outputs": [],
   "source": [
    "# convert to one hot vector\n",
    "\n",
    "y_train = to_categorical(y_train, num_classes=len(unique))\n",
    "\n",
    "y_test = to_categorical(y_test, num_classes=len(unique))"
   ]
  },
  {
   "cell_type": "code",
   "execution_count": 15,
   "metadata": {
    "ExecuteTime": {
     "end_time": "2020-02-27T09:33:53.044264Z",
     "start_time": "2020-02-27T09:33:53.039278Z"
    }
   },
   "outputs": [
    {
     "data": {
      "text/plain": [
       "((60000, 10), (10000, 10))"
      ]
     },
     "execution_count": 15,
     "metadata": {},
     "output_type": "execute_result"
    }
   ],
   "source": [
    "y_train.shape, y_test.shape"
   ]
  },
  {
   "cell_type": "code",
   "execution_count": 16,
   "metadata": {
    "ExecuteTime": {
     "end_time": "2020-02-27T09:54:49.610150Z",
     "start_time": "2020-02-27T09:54:49.361815Z"
    }
   },
   "outputs": [],
   "source": [
    "# input image dimension\n",
    "\n",
    "image_size = X_train.shape[1]\n",
    "\n",
    "# resize and normalize\n",
    "\n",
    "X_train = np.reshape(X_train, [-1, image_size, image_size, 1])\n",
    "\n",
    "X_test = np.reshape(X_test, [-1, image_size, image_size, 1])\n",
    "\n",
    "X_train = X_train.astype('float32') /255.0\n",
    "\n",
    "X_test = X_test.astype('float32') /255.0\n"
   ]
  },
  {
   "cell_type": "code",
   "execution_count": 22,
   "metadata": {
    "ExecuteTime": {
     "end_time": "2020-02-27T09:56:33.506989Z",
     "start_time": "2020-02-27T09:56:33.478032Z"
    }
   },
   "outputs": [
    {
     "data": {
      "text/plain": [
       "(0.0, 1.0, dtype('float32'), (60000, 28, 28, 1))"
      ]
     },
     "execution_count": 22,
     "metadata": {},
     "output_type": "execute_result"
    }
   ],
   "source": [
    "X_train.min(), X_train.max(), X_train.dtype, X_train.shape"
   ]
  },
  {
   "cell_type": "code",
   "execution_count": 26,
   "metadata": {
    "ExecuteTime": {
     "end_time": "2020-02-27T11:36:17.538356Z",
     "start_time": "2020-02-27T11:36:17.528790Z"
    }
   },
   "outputs": [],
   "source": [
    "from tensorflow.keras.models import Sequential\n",
    "from tensorflow.keras.layers import Conv2D, Dense, Flatten, MaxPooling2D, Dropout"
   ]
  },
  {
   "cell_type": "code",
   "execution_count": 27,
   "metadata": {
    "ExecuteTime": {
     "end_time": "2020-02-27T11:36:19.441331Z",
     "start_time": "2020-02-27T11:36:19.424002Z"
    }
   },
   "outputs": [],
   "source": [
    "def my_model():\n",
    "    model = Sequential()\n",
    "    \n",
    "    model.add(Conv2D(filters=6, kernel_size=(3, 3), activation='relu', input_shape=(image_size,image_size,1)))\n",
    "    \n",
    "    model.add(MaxPooling2D(pool_size=(2, 2)))\n",
    "    \n",
    "    model.add(Conv2D(filters=16, kernel_size=(3, 3), activation='relu'))\n",
    "   \n",
    "    model.add(MaxPooling2D(pool_size=(2, 2)))\n",
    "    # we flatten our units\n",
    "    model.add(Flatten())\n",
    "   \n",
    "    model.add(Dense(units=120, activation='relu'))\n",
    "    \n",
    "    model.add(Dense(units=84, activation='relu'))\n",
    "   \n",
    "    model.add(Dense(units=10, activation = 'softmax'))\n",
    "    \n",
    "    return model"
   ]
  },
  {
   "cell_type": "code",
   "execution_count": 28,
   "metadata": {
    "ExecuteTime": {
     "end_time": "2020-02-27T11:36:22.864951Z",
     "start_time": "2020-02-27T11:36:21.994023Z"
    }
   },
   "outputs": [
    {
     "name": "stdout",
     "output_type": "stream",
     "text": [
      "Model: \"sequential_1\"\n",
      "_________________________________________________________________\n",
      "Layer (type)                 Output Shape              Param #   \n",
      "=================================================================\n",
      "conv2d_1 (Conv2D)            (None, 26, 26, 6)         60        \n",
      "_________________________________________________________________\n",
      "max_pooling2d (MaxPooling2D) (None, 13, 13, 6)         0         \n",
      "_________________________________________________________________\n",
      "conv2d_2 (Conv2D)            (None, 11, 11, 16)        880       \n",
      "_________________________________________________________________\n",
      "max_pooling2d_1 (MaxPooling2 (None, 5, 5, 16)          0         \n",
      "_________________________________________________________________\n",
      "flatten (Flatten)            (None, 400)               0         \n",
      "_________________________________________________________________\n",
      "dense (Dense)                (None, 120)               48120     \n",
      "_________________________________________________________________\n",
      "dense_1 (Dense)              (None, 84)                10164     \n",
      "_________________________________________________________________\n",
      "dense_2 (Dense)              (None, 10)                850       \n",
      "=================================================================\n",
      "Total params: 60,074\n",
      "Trainable params: 60,074\n",
      "Non-trainable params: 0\n",
      "_________________________________________________________________\n"
     ]
    }
   ],
   "source": [
    "model = my_model()\n",
    "\n",
    "model.compile(optimizer= 'adam', loss = 'categorical_crossentropy', metrics= ['accuracy'] )\n",
    "\n",
    "model.summary()"
   ]
  },
  {
   "cell_type": "code",
   "execution_count": 30,
   "metadata": {
    "ExecuteTime": {
     "end_time": "2020-02-27T11:45:18.754521Z",
     "start_time": "2020-02-27T11:40:40.847401Z"
    }
   },
   "outputs": [
    {
     "name": "stdout",
     "output_type": "stream",
     "text": [
      "Train on 60000 samples, validate on 10000 samples\n",
      "Epoch 1/10\n",
      "60000/60000 [==============================] - 29s 486us/sample - loss: 0.2163 - acc: 0.9366 - val_loss: 0.0660 - val_acc: 0.9784\n",
      "Epoch 2/10\n",
      "60000/60000 [==============================] - 28s 460us/sample - loss: 0.0703 - acc: 0.9779 - val_loss: 0.0462 - val_acc: 0.9853\n",
      "Epoch 3/10\n",
      "60000/60000 [==============================] - 28s 474us/sample - loss: 0.0497 - acc: 0.9844 - val_loss: 0.0456 - val_acc: 0.9854\n",
      "Epoch 4/10\n",
      "60000/60000 [==============================] - 27s 450us/sample - loss: 0.0403 - acc: 0.9873 - val_loss: 0.0506 - val_acc: 0.9840\n",
      "Epoch 5/10\n",
      "60000/60000 [==============================] - 28s 466us/sample - loss: 0.0326 - acc: 0.9895 - val_loss: 0.0487 - val_acc: 0.9856\n",
      "Epoch 6/10\n",
      "60000/60000 [==============================] - 27s 455us/sample - loss: 0.0268 - acc: 0.9910 - val_loss: 0.0472 - val_acc: 0.9847\n",
      "Epoch 7/10\n",
      "60000/60000 [==============================] - 27s 458us/sample - loss: 0.0236 - acc: 0.9922 - val_loss: 0.0442 - val_acc: 0.9859\n",
      "Epoch 8/10\n",
      "60000/60000 [==============================] - 26s 440us/sample - loss: 0.0191 - acc: 0.9934 - val_loss: 0.0410 - val_acc: 0.9866\n",
      "Epoch 9/10\n",
      "60000/60000 [==============================] - 28s 467us/sample - loss: 0.0153 - acc: 0.9945 - val_loss: 0.0433 - val_acc: 0.9871\n",
      "Epoch 10/10\n",
      "60000/60000 [==============================] - 27s 451us/sample - loss: 0.0151 - acc: 0.9952 - val_loss: 0.0382 - val_acc: 0.9878\n"
     ]
    },
    {
     "data": {
      "text/plain": [
       "<tensorflow.python.keras.callbacks.History at 0x26a22529710>"
      ]
     },
     "execution_count": 30,
     "metadata": {},
     "output_type": "execute_result"
    }
   ],
   "source": [
    "from tensorflow.keras.callbacks import EarlyStopping, TensorBoard\n",
    "\n",
    "# Define the callbacks\n",
    "callbacks = [EarlyStopping(monitor='val_loss', patience=5),\n",
    "            TensorBoard(log_dir='./Graph', histogram_freq=0, write_graph=True, write_images=True)]\n",
    "\n",
    "\n",
    "# Finally fit the model\n",
    "model.fit(x=X_train, y=y_train, validation_data=(X_test, y_test), epochs=10, batch_size=64, callbacks=callbacks)"
   ]
  },
  {
   "cell_type": "code",
   "execution_count": 35,
   "metadata": {
    "ExecuteTime": {
     "end_time": "2020-02-27T11:52:22.456048Z",
     "start_time": "2020-02-27T11:52:06.776090Z"
    }
   },
   "outputs": [
    {
     "name": "stdout",
     "output_type": "stream",
     "text": [
      "60000/60000 [==============================] - 13s 223us/sample - loss: 0.0084 - acc: 0.9974\n",
      "10000/10000 [==============================] - 2s 228us/sample - loss: 0.0382 - acc: 0.9878\n",
      "accuracy on train :  0.99745 \n",
      "accuracy on test:  0.9878\n"
     ]
    }
   ],
   "source": [
    "print('accuracy on train : ', model.evaluate(X_train, y_train)[1]  ,'\\naccuracy on test: ', model.evaluate(X_test, y_test)[1])"
   ]
  },
  {
   "cell_type": "code",
   "execution_count": null,
   "metadata": {},
   "outputs": [],
   "source": []
  }
 ],
 "metadata": {
  "hide_input": false,
  "kernelspec": {
   "display_name": "Python 3",
   "language": "python",
   "name": "python3"
  },
  "language_info": {
   "codemirror_mode": {
    "name": "ipython",
    "version": 3
   },
   "file_extension": ".py",
   "mimetype": "text/x-python",
   "name": "python",
   "nbconvert_exporter": "python",
   "pygments_lexer": "ipython3",
   "version": "3.7.3"
  },
  "toc": {
   "base_numbering": 1,
   "nav_menu": {},
   "number_sections": true,
   "sideBar": true,
   "skip_h1_title": false,
   "title_cell": "Table of Contents",
   "title_sidebar": "Contents",
   "toc_cell": false,
   "toc_position": {},
   "toc_section_display": true,
   "toc_window_display": false
  },
  "varInspector": {
   "cols": {
    "lenName": 16,
    "lenType": 16,
    "lenVar": 40
   },
   "kernels_config": {
    "python": {
     "delete_cmd_postfix": "",
     "delete_cmd_prefix": "del ",
     "library": "var_list.py",
     "varRefreshCmd": "print(var_dic_list())"
    },
    "r": {
     "delete_cmd_postfix": ") ",
     "delete_cmd_prefix": "rm(",
     "library": "var_list.r",
     "varRefreshCmd": "cat(var_dic_list()) "
    }
   },
   "types_to_exclude": [
    "module",
    "function",
    "builtin_function_or_method",
    "instance",
    "_Feature"
   ],
   "window_display": true
  }
 },
 "nbformat": 4,
 "nbformat_minor": 2
}
